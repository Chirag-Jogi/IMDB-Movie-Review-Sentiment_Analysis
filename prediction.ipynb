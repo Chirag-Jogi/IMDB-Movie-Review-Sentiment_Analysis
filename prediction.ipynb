{
 "cells": [
  {
   "cell_type": "code",
   "execution_count": 7,
   "id": "63d02212",
   "metadata": {},
   "outputs": [],
   "source": [
    "import numpy as np\n",
    "import tensorflow as tf\n",
    "from tensorflow.keras.datasets import imdb\n",
    "from tensorflow.keras.preprocessing import sequence\n",
    "from tensorflow.keras.models import load_model\n"
   ]
  },
  {
   "cell_type": "code",
   "execution_count": 8,
   "id": "276e93f6",
   "metadata": {},
   "outputs": [
    {
     "data": {
      "text/plain": [
       "88584"
      ]
     },
     "execution_count": 8,
     "metadata": {},
     "output_type": "execute_result"
    }
   ],
   "source": [
    "## Load the IMDB dataset word index\n",
    "word_index=imdb.get_word_index()\n",
    "reverse_word_index={value:key for key,value in word_index.items()}\n",
    "len(reverse_word_index)"
   ]
  },
  {
   "cell_type": "code",
   "execution_count": 9,
   "id": "b811200a",
   "metadata": {},
   "outputs": [
    {
     "name": "stderr",
     "output_type": "stream",
     "text": [
      "WARNING:absl:Compiled the loaded model, but the compiled metrics have yet to be built. `model.compile_metrics` will be empty until you train or evaluate the model.\n"
     ]
    },
    {
     "data": {
      "text/html": [
       "<pre style=\"white-space:pre;overflow-x:auto;line-height:normal;font-family:Menlo,'DejaVu Sans Mono',consolas,'Courier New',monospace\"><span style=\"font-weight: bold\">Model: \"sequential_2\"</span>\n",
       "</pre>\n"
      ],
      "text/plain": [
       "\u001b[1mModel: \"sequential_2\"\u001b[0m\n"
      ]
     },
     "metadata": {},
     "output_type": "display_data"
    },
    {
     "data": {
      "text/html": [
       "<pre style=\"white-space:pre;overflow-x:auto;line-height:normal;font-family:Menlo,'DejaVu Sans Mono',consolas,'Courier New',monospace\">┏━━━━━━━━━━━━━━━━━━━━━━━━━━━━━━━━━┳━━━━━━━━━━━━━━━━━━━━━━━━┳━━━━━━━━━━━━━━━┓\n",
       "┃<span style=\"font-weight: bold\"> Layer (type)                    </span>┃<span style=\"font-weight: bold\"> Output Shape           </span>┃<span style=\"font-weight: bold\">       Param # </span>┃\n",
       "┡━━━━━━━━━━━━━━━━━━━━━━━━━━━━━━━━━╇━━━━━━━━━━━━━━━━━━━━━━━━╇━━━━━━━━━━━━━━━┩\n",
       "│ embedding_2 (<span style=\"color: #0087ff; text-decoration-color: #0087ff\">Embedding</span>)         │ (<span style=\"color: #00af00; text-decoration-color: #00af00\">32</span>, <span style=\"color: #00af00; text-decoration-color: #00af00\">500</span>, <span style=\"color: #00af00; text-decoration-color: #00af00\">128</span>)         │     <span style=\"color: #00af00; text-decoration-color: #00af00\">1,280,000</span> │\n",
       "├─────────────────────────────────┼────────────────────────┼───────────────┤\n",
       "│ simple_rnn_2 (<span style=\"color: #0087ff; text-decoration-color: #0087ff\">SimpleRNN</span>)        │ (<span style=\"color: #00af00; text-decoration-color: #00af00\">32</span>, <span style=\"color: #00af00; text-decoration-color: #00af00\">128</span>)              │        <span style=\"color: #00af00; text-decoration-color: #00af00\">32,896</span> │\n",
       "├─────────────────────────────────┼────────────────────────┼───────────────┤\n",
       "│ dense_2 (<span style=\"color: #0087ff; text-decoration-color: #0087ff\">Dense</span>)                 │ (<span style=\"color: #00af00; text-decoration-color: #00af00\">32</span>, <span style=\"color: #00af00; text-decoration-color: #00af00\">1</span>)                │           <span style=\"color: #00af00; text-decoration-color: #00af00\">129</span> │\n",
       "└─────────────────────────────────┴────────────────────────┴───────────────┘\n",
       "</pre>\n"
      ],
      "text/plain": [
       "┏━━━━━━━━━━━━━━━━━━━━━━━━━━━━━━━━━┳━━━━━━━━━━━━━━━━━━━━━━━━┳━━━━━━━━━━━━━━━┓\n",
       "┃\u001b[1m \u001b[0m\u001b[1mLayer (type)                   \u001b[0m\u001b[1m \u001b[0m┃\u001b[1m \u001b[0m\u001b[1mOutput Shape          \u001b[0m\u001b[1m \u001b[0m┃\u001b[1m \u001b[0m\u001b[1m      Param #\u001b[0m\u001b[1m \u001b[0m┃\n",
       "┡━━━━━━━━━━━━━━━━━━━━━━━━━━━━━━━━━╇━━━━━━━━━━━━━━━━━━━━━━━━╇━━━━━━━━━━━━━━━┩\n",
       "│ embedding_2 (\u001b[38;5;33mEmbedding\u001b[0m)         │ (\u001b[38;5;34m32\u001b[0m, \u001b[38;5;34m500\u001b[0m, \u001b[38;5;34m128\u001b[0m)         │     \u001b[38;5;34m1,280,000\u001b[0m │\n",
       "├─────────────────────────────────┼────────────────────────┼───────────────┤\n",
       "│ simple_rnn_2 (\u001b[38;5;33mSimpleRNN\u001b[0m)        │ (\u001b[38;5;34m32\u001b[0m, \u001b[38;5;34m128\u001b[0m)              │        \u001b[38;5;34m32,896\u001b[0m │\n",
       "├─────────────────────────────────┼────────────────────────┼───────────────┤\n",
       "│ dense_2 (\u001b[38;5;33mDense\u001b[0m)                 │ (\u001b[38;5;34m32\u001b[0m, \u001b[38;5;34m1\u001b[0m)                │           \u001b[38;5;34m129\u001b[0m │\n",
       "└─────────────────────────────────┴────────────────────────┴───────────────┘\n"
      ]
     },
     "metadata": {},
     "output_type": "display_data"
    },
    {
     "data": {
      "text/html": [
       "<pre style=\"white-space:pre;overflow-x:auto;line-height:normal;font-family:Menlo,'DejaVu Sans Mono',consolas,'Courier New',monospace\"><span style=\"font-weight: bold\"> Total params: </span><span style=\"color: #00af00; text-decoration-color: #00af00\">1,313,027</span> (5.01 MB)\n",
       "</pre>\n"
      ],
      "text/plain": [
       "\u001b[1m Total params: \u001b[0m\u001b[38;5;34m1,313,027\u001b[0m (5.01 MB)\n"
      ]
     },
     "metadata": {},
     "output_type": "display_data"
    },
    {
     "data": {
      "text/html": [
       "<pre style=\"white-space:pre;overflow-x:auto;line-height:normal;font-family:Menlo,'DejaVu Sans Mono',consolas,'Courier New',monospace\"><span style=\"font-weight: bold\"> Trainable params: </span><span style=\"color: #00af00; text-decoration-color: #00af00\">1,313,025</span> (5.01 MB)\n",
       "</pre>\n"
      ],
      "text/plain": [
       "\u001b[1m Trainable params: \u001b[0m\u001b[38;5;34m1,313,025\u001b[0m (5.01 MB)\n"
      ]
     },
     "metadata": {},
     "output_type": "display_data"
    },
    {
     "data": {
      "text/html": [
       "<pre style=\"white-space:pre;overflow-x:auto;line-height:normal;font-family:Menlo,'DejaVu Sans Mono',consolas,'Courier New',monospace\"><span style=\"font-weight: bold\"> Non-trainable params: </span><span style=\"color: #00af00; text-decoration-color: #00af00\">0</span> (0.00 B)\n",
       "</pre>\n"
      ],
      "text/plain": [
       "\u001b[1m Non-trainable params: \u001b[0m\u001b[38;5;34m0\u001b[0m (0.00 B)\n"
      ]
     },
     "metadata": {},
     "output_type": "display_data"
    },
    {
     "data": {
      "text/html": [
       "<pre style=\"white-space:pre;overflow-x:auto;line-height:normal;font-family:Menlo,'DejaVu Sans Mono',consolas,'Courier New',monospace\"><span style=\"font-weight: bold\"> Optimizer params: </span><span style=\"color: #00af00; text-decoration-color: #00af00\">2</span> (12.00 B)\n",
       "</pre>\n"
      ],
      "text/plain": [
       "\u001b[1m Optimizer params: \u001b[0m\u001b[38;5;34m2\u001b[0m (12.00 B)\n"
      ]
     },
     "metadata": {},
     "output_type": "display_data"
    }
   ],
   "source": [
    "# Load the pre-trained model with RELU ACTIVATION\n",
    "\n",
    "model=load_model('simple_rnn_imdb.h5')\n",
    "model.summary()"
   ]
  },
  {
   "cell_type": "code",
   "execution_count": 10,
   "id": "c8b38a01",
   "metadata": {},
   "outputs": [
    {
     "data": {
      "text/plain": [
       "[array([[-0.16374743,  0.04055721, -0.13122262, ...,  0.20484453,\n",
       "         -0.14996353,  0.06689366],\n",
       "        [ 0.01925558, -0.016971  , -0.02481962, ..., -0.00255112,\n",
       "         -0.07935535,  0.02727055],\n",
       "        [ 0.12717806, -0.11216041,  0.04834347, ..., -0.08888223,\n",
       "         -0.05603883, -0.04445938],\n",
       "        ...,\n",
       "        [-0.02717099, -0.02385768, -0.03275041, ..., -0.00927551,\n",
       "          0.01894012,  0.00233006],\n",
       "        [-0.06832248,  0.07486379, -0.05815408, ..., -0.00975934,\n",
       "         -0.10529802, -0.04436969],\n",
       "        [ 0.01859967, -0.02720546,  0.12115411, ...,  0.06798919,\n",
       "          0.08418176,  0.10774817]], dtype=float32),\n",
       " array([[-0.05140843, -0.14552169, -0.1179358 , ..., -0.06720778,\n",
       "          0.13351531,  0.05936419],\n",
       "        [-0.06774722, -0.02655078,  0.06032891, ..., -0.03716854,\n",
       "         -0.2351741 , -0.06440459],\n",
       "        [-0.15195523,  0.09060644, -0.10968076, ...,  0.07366151,\n",
       "         -0.0873737 , -0.0012389 ],\n",
       "        ...,\n",
       "        [ 0.1925082 , -0.10899936,  0.06374335, ..., -0.10722957,\n",
       "          0.05636196, -0.21710588],\n",
       "        [ 0.13194264,  0.1380464 , -0.16762748, ...,  0.13391834,\n",
       "         -0.05487473,  0.12718831],\n",
       "        [ 0.00617445, -0.05482363, -0.13539605, ..., -0.08493892,\n",
       "          0.12550075,  0.11891505]], dtype=float32),\n",
       " array([[ 0.02812739,  0.04035897,  0.01090411, ...,  0.10339278,\n",
       "         -0.3210876 ,  0.06876195],\n",
       "        [-0.05097096, -0.05089216,  0.02663055, ..., -0.00668262,\n",
       "         -0.00269163, -0.13688126],\n",
       "        [-0.03929267, -0.01258986,  0.1249887 , ...,  0.03757358,\n",
       "          0.04992235,  0.01591189],\n",
       "        ...,\n",
       "        [ 0.10045045, -0.07170322, -0.04666679, ...,  0.05981711,\n",
       "         -0.15887927, -0.10379265],\n",
       "        [-0.17189483,  0.06754712, -0.03509317, ...,  0.03302835,\n",
       "          0.01360129,  0.03105356],\n",
       "        [ 0.0369792 , -0.20567322, -0.09769838, ..., -0.09754539,\n",
       "          0.05178817, -0.01629908]], dtype=float32),\n",
       " array([ 1.9044114e-02, -2.9980669e-02, -1.4677666e-02, -3.6594938e-02,\n",
       "         3.2824498e-02, -8.1174001e-02,  1.4799623e-02, -2.3917053e-02,\n",
       "         5.3833909e-02, -3.1041883e-02,  1.8733943e-02, -6.4203501e-05,\n",
       "        -3.0137321e-02,  3.3144344e-02,  1.8320188e-02, -6.8365885e-03,\n",
       "         5.8883866e-03, -2.5469853e-02, -2.4279173e-02, -2.6343453e-03,\n",
       "        -1.0336193e-02, -1.2370107e-04, -5.9317448e-03, -4.2677224e-02,\n",
       "        -8.1613343e-03,  9.7779566e-03, -5.1298220e-02, -3.2570545e-02,\n",
       "         5.0200741e-03, -5.1769321e-03, -3.8557176e-02, -6.0021151e-02,\n",
       "         1.0795076e-01, -2.6113003e-02,  4.7775201e-02, -3.1095121e-02,\n",
       "        -6.3191676e-03,  1.4195131e-02, -2.8193884e-02, -3.1771399e-02,\n",
       "        -3.3622414e-02,  3.1140771e-02, -5.3290345e-02, -3.8495656e-02,\n",
       "        -3.0715289e-02,  2.8317975e-02, -3.3185412e-03,  2.9937807e-02,\n",
       "        -4.2516317e-02, -4.4443887e-02,  3.4850299e-02,  1.8898036e-02,\n",
       "         8.6997468e-03,  1.6087422e-02, -2.6679888e-02,  2.1867465e-02,\n",
       "        -1.3384018e-02, -2.6990091e-02, -9.2786439e-03,  2.6352487e-03,\n",
       "         1.6999536e-03,  4.0430954e-04, -2.4995171e-02,  3.6345549e-02,\n",
       "         2.5677269e-02,  1.3245619e-02,  3.0836787e-03, -5.7264592e-02,\n",
       "        -2.4770195e-02,  3.3352472e-02, -4.3362066e-02,  1.0449988e-02,\n",
       "        -4.3979309e-02, -2.8336402e-02,  2.0607892e-02, -8.8444276e-04,\n",
       "        -3.2765500e-02, -1.2052109e-02,  4.2643797e-02,  7.5095999e-03,\n",
       "        -4.0704440e-02, -5.1173910e-02, -4.1158460e-02,  1.8920726e-04,\n",
       "         1.9392541e-02,  2.4355823e-04,  4.1231792e-02, -2.7784519e-02,\n",
       "         1.7572572e-02, -3.6712848e-02,  3.4447931e-02, -7.1672271e-03,\n",
       "         5.6893773e-02,  1.3232911e-02, -3.8587466e-02, -2.4074962e-02,\n",
       "        -1.0925950e-02, -1.9699903e-02,  3.4415219e-02, -3.1092966e-02,\n",
       "         2.9959284e-02, -6.0803453e-03, -1.9209417e-02, -2.0279505e-03,\n",
       "        -1.9275950e-02, -9.8566609e-03, -1.7136501e-02, -1.8773604e-02,\n",
       "        -9.3302792e-03,  2.2552302e-02, -3.9231334e-02, -4.8603073e-02,\n",
       "         1.6923133e-02,  3.4858815e-02,  3.0989482e-03, -4.6784401e-02,\n",
       "        -1.5828766e-02,  3.2055244e-02, -7.1125627e-03,  1.5004992e-02,\n",
       "         1.1891333e-02,  4.0913612e-02, -2.0124152e-02,  4.3311793e-02,\n",
       "         3.8922341e-03, -3.3555370e-02,  3.6765225e-02, -3.3008967e-02],\n",
       "       dtype=float32),\n",
       " array([[-1.08999059e-01],\n",
       "        [ 1.18214846e-01],\n",
       "        [-1.65841505e-01],\n",
       "        [ 2.96032913e-02],\n",
       "        [-1.05415225e-01],\n",
       "        [-2.74337709e-01],\n",
       "        [ 2.43254974e-01],\n",
       "        [ 1.13706440e-01],\n",
       "        [ 8.44430402e-02],\n",
       "        [-7.54428729e-02],\n",
       "        [ 2.33378217e-01],\n",
       "        [-3.84533882e-01],\n",
       "        [ 1.34107813e-01],\n",
       "        [-5.06865606e-02],\n",
       "        [-2.09964782e-01],\n",
       "        [-1.07897960e-01],\n",
       "        [ 1.20806545e-01],\n",
       "        [ 2.40776151e-01],\n",
       "        [ 1.57348961e-01],\n",
       "        [-2.62624994e-02],\n",
       "        [ 2.31727883e-01],\n",
       "        [ 6.68950915e-01],\n",
       "        [ 1.66489616e-01],\n",
       "        [-2.23465309e-01],\n",
       "        [ 1.50687963e-01],\n",
       "        [ 1.70637429e-01],\n",
       "        [-1.45148516e-01],\n",
       "        [ 6.52888238e-01],\n",
       "        [ 3.21227163e-02],\n",
       "        [-7.10240006e-02],\n",
       "        [ 1.49873346e-01],\n",
       "        [ 5.93709275e-02],\n",
       "        [ 1.00019403e-01],\n",
       "        [-3.58706526e-02],\n",
       "        [ 1.05966993e-01],\n",
       "        [ 4.99971397e-02],\n",
       "        [ 7.31593966e-02],\n",
       "        [ 1.19071528e-01],\n",
       "        [ 2.47233957e-02],\n",
       "        [ 2.26181805e-01],\n",
       "        [ 1.95035562e-01],\n",
       "        [ 3.95885348e-01],\n",
       "        [ 7.67119452e-02],\n",
       "        [-1.75962240e-01],\n",
       "        [ 1.32874101e-01],\n",
       "        [-3.20734084e-01],\n",
       "        [ 1.82015195e-01],\n",
       "        [-2.76594907e-01],\n",
       "        [-4.20923866e-02],\n",
       "        [ 3.48110378e-01],\n",
       "        [-9.44488645e-02],\n",
       "        [-3.12051107e-03],\n",
       "        [ 2.54346192e-01],\n",
       "        [ 4.58263904e-02],\n",
       "        [-1.72056094e-01],\n",
       "        [-1.43660814e-01],\n",
       "        [-3.92666496e-02],\n",
       "        [ 1.08287148e-01],\n",
       "        [ 9.26640332e-02],\n",
       "        [ 1.73983335e-01],\n",
       "        [ 2.10133687e-01],\n",
       "        [-4.45094973e-01],\n",
       "        [ 1.69561252e-01],\n",
       "        [-7.78756477e-03],\n",
       "        [-2.24082679e-01],\n",
       "        [-2.10036397e-01],\n",
       "        [-3.32849324e-01],\n",
       "        [-1.22882843e-01],\n",
       "        [ 4.77061421e-02],\n",
       "        [ 1.14952512e-01],\n",
       "        [ 7.16167912e-02],\n",
       "        [-1.66568886e-02],\n",
       "        [ 2.12911725e-01],\n",
       "        [-9.50555131e-02],\n",
       "        [ 2.69379020e-01],\n",
       "        [ 1.39855579e-01],\n",
       "        [-1.40193934e-02],\n",
       "        [-1.49277955e-01],\n",
       "        [-2.48601977e-02],\n",
       "        [ 1.89153448e-01],\n",
       "        [-9.84307304e-02],\n",
       "        [ 1.22347340e-01],\n",
       "        [ 2.40510348e-02],\n",
       "        [-4.12007645e-02],\n",
       "        [-2.41497189e-01],\n",
       "        [ 1.45109937e-01],\n",
       "        [ 4.26578224e-02],\n",
       "        [ 1.60884619e-01],\n",
       "        [ 2.49697521e-01],\n",
       "        [-3.05263754e-02],\n",
       "        [ 1.44793019e-01],\n",
       "        [ 1.69924676e-01],\n",
       "        [ 4.13096175e-02],\n",
       "        [ 4.09676097e-02],\n",
       "        [ 6.33759075e-04],\n",
       "        [ 2.23027632e-01],\n",
       "        [-1.27848193e-01],\n",
       "        [ 2.16776296e-01],\n",
       "        [ 2.15340003e-01],\n",
       "        [-6.54384308e-03],\n",
       "        [ 4.32740934e-02],\n",
       "        [ 2.37360612e-01],\n",
       "        [ 2.39953622e-01],\n",
       "        [-1.37077555e-01],\n",
       "        [-2.22287387e-01],\n",
       "        [ 4.70996536e-02],\n",
       "        [ 2.35786531e-02],\n",
       "        [-9.58890468e-02],\n",
       "        [-3.61152709e-01],\n",
       "        [-2.01346099e-01],\n",
       "        [ 2.25238353e-01],\n",
       "        [-1.43252444e-02],\n",
       "        [-1.50166422e-01],\n",
       "        [-1.68383896e-01],\n",
       "        [-4.50297929e-02],\n",
       "        [ 1.01856284e-01],\n",
       "        [ 7.41259530e-02],\n",
       "        [-1.40105873e-01],\n",
       "        [-1.29550368e-01],\n",
       "        [ 2.86573797e-01],\n",
       "        [-1.61771029e-01],\n",
       "        [ 6.68435454e-01],\n",
       "        [ 1.43802539e-01],\n",
       "        [ 1.65483624e-01],\n",
       "        [ 2.48922631e-01],\n",
       "        [ 6.11718744e-02],\n",
       "        [ 7.34497234e-02],\n",
       "        [-2.31916785e-01]], dtype=float32),\n",
       " array([0.38449287], dtype=float32)]"
      ]
     },
     "execution_count": 10,
     "metadata": {},
     "output_type": "execute_result"
    }
   ],
   "source": [
    "model.get_weights()"
   ]
  },
  {
   "cell_type": "code",
   "execution_count": null,
   "id": "6e5ef0db",
   "metadata": {},
   "outputs": [],
   "source": [
    "## Function to decode revies\n",
    "def decode_review(encoded_review):\n",
    "    return ' '.join([reverse_word_index.get(i-3,'?') for i in encoded_review])\n",
    "\n",
    "def preprocess_text(text):\n",
    "    words=text.lower().split()\n",
    "    encoded_review=[word_index.get(word,2)+ 3 for word in words]\n",
    "    padded_review=sequence.pad_sequences([encoded_review],maxlen=500)\n",
    "    return padded_review"
   ]
  },
  {
   "cell_type": "code",
   "execution_count": 15,
   "id": "b83e2dcb",
   "metadata": {},
   "outputs": [],
   "source": [
    "## prediction functon\n",
    "\n",
    "def predict_sentiment(review):\n",
    "    preprocess_input=preprocess_text(review)\n",
    "\n",
    "    prediction=model.predict(preprocess_input)\n",
    "    sentiment='Postive' if prediction[0][0] >0.5 else 'Negative'\n",
    "    return sentiment,prediction[0][0]\n",
    "\n"
   ]
  },
  {
   "cell_type": "code",
   "execution_count": 16,
   "id": "39962add",
   "metadata": {},
   "outputs": [
    {
     "name": "stdout",
     "output_type": "stream",
     "text": [
      "\u001b[1m1/1\u001b[0m \u001b[32m━━━━━━━━━━━━━━━━━━━━\u001b[0m\u001b[37m\u001b[0m \u001b[1m0s\u001b[0m 40ms/step\n",
      "Review :This movie was fantastic the acting was great and the plot was thrilling\n",
      "Sentiment :Postive\n",
      "Prediction Score:0.7636609077453613\n"
     ]
    }
   ],
   "source": [
    "example_review=\"This movie was fantastic the acting was great and the plot was thrilling\"\n",
    "sentiment,score=predict_sentiment(example_review)\n",
    "print(f'Review :{example_review}')\n",
    "print(f\"Sentiment :{sentiment}\")\n",
    "print(f\"Prediction Score:{score}\")"
   ]
  },
  {
   "cell_type": "code",
   "execution_count": 19,
   "id": "86b7fdf9",
   "metadata": {},
   "outputs": [
    {
     "name": "stdout",
     "output_type": "stream",
     "text": [
      "\u001b[1m1/1\u001b[0m \u001b[32m━━━━━━━━━━━━━━━━━━━━\u001b[0m\u001b[37m\u001b[0m \u001b[1m0s\u001b[0m 38ms/step\n",
      "Review :This movie was not fantastic the acting was not to great and the plot was some how thrilling\n",
      "Sentiment :Postive\n",
      "Prediction Score:0.7413279414176941\n"
     ]
    }
   ],
   "source": [
    "example_review1=\"This movie was not fantastic the acting was not to great and the plot was some how thrilling\"\n",
    "sentiment,score=predict_sentiment(example_review1)\n",
    "print(f'Review :{example_review1}')\n",
    "print(f\"Sentiment :{sentiment}\")\n",
    "print(f\"Prediction Score:{score}\")"
   ]
  }
 ],
 "metadata": {
  "kernelspec": {
   "display_name": "venv",
   "language": "python",
   "name": "python3"
  },
  "language_info": {
   "codemirror_mode": {
    "name": "ipython",
    "version": 3
   },
   "file_extension": ".py",
   "mimetype": "text/x-python",
   "name": "python",
   "nbconvert_exporter": "python",
   "pygments_lexer": "ipython3",
   "version": "3.11.0"
  }
 },
 "nbformat": 4,
 "nbformat_minor": 5
}
